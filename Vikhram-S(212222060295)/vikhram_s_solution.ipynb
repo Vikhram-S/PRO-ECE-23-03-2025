{
 "cells": [
  {
   "cell_type": "markdown",
   "metadata": {},
   "source": [
    "**Vikhram S**  \n",
    "**212222060295**   "
   ]
  },
  {
   "cell_type": "code",
   "execution_count": 1,
   "metadata": {},
   "outputs": [
    {
     "name": "stdout",
     "output_type": "stream",
     "text": [
      "True\n",
      "User john_doe deleted\n",
      "False\n"
     ]
    }
   ],
   "source": [
    "# Base class\n",
    "class User:\n",
    "    def __init__(self, username: str, password: str):\n",
    "        self.username = username\n",
    "        self.__password = password  # Private attribute\n",
    "\n",
    "    def login(self, password: str) -> bool:\n",
    "        return self.__password == password\n",
    "\n",
    "# Derived Admin class\n",
    "class Admin(User):\n",
    "    def delete_user(self, user: User) -> str:\n",
    "        return f\"User {user.username} deleted\"\n",
    "\n",
    "# Derived Guest class\n",
    "class Guest(User):\n",
    "    def login(self, password: str) -> bool:\n",
    "        return False  # Guests cannot log in\n",
    "\n",
    "# Testing\n",
    "admin = Admin(\"admin123\", \"securePass\")\n",
    "print(admin.login(\"securePass\"))  # True\n",
    "\n",
    "user1 = User(\"john_doe\", \"pass123\")\n",
    "print(admin.delete_user(user1))  # User john_doe deleted\n",
    "\n",
    "guest = Guest(\"guest1\", \"guestPass\")\n",
    "print(guest.login(\"guestPass\"))  # False\n"
   ]
  }
 ],
 "metadata": {
  "kernelspec": {
   "display_name": "Python 3",
   "language": "python",
   "name": "python3"
  },
  "language_info": {
   "codemirror_mode": {
    "name": "ipython",
    "version": 3
   },
   "file_extension": ".py",
   "mimetype": "text/x-python",
   "name": "python",
   "nbconvert_exporter": "python",
   "pygments_lexer": "ipython3",
   "version": "3.11.9"
  }
 },
 "nbformat": 4,
 "nbformat_minor": 2
}
